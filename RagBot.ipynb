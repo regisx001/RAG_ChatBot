{
 "cells": [
  {
   "cell_type": "code",
   "execution_count": 1,
   "id": "19bc5ce6",
   "metadata": {},
   "outputs": [
    {
     "data": {
      "text/plain": [
       "True"
      ]
     },
     "execution_count": 1,
     "metadata": {},
     "output_type": "execute_result"
    }
   ],
   "source": [
    "from langchain_community.document_loaders import PyPDFDirectoryLoader\n",
    "from langchain_text_splitters import RecursiveCharacterTextSplitter\n",
    "from langchain_openai.embeddings import OpenAIEmbeddings\n",
    "from langchain_chroma import Chroma\n",
    "from uuid import uuid4\n",
    "\n",
    "# import the .env file\n",
    "from dotenv import load_dotenv\n",
    "load_dotenv()"
   ]
  },
  {
   "cell_type": "code",
   "execution_count": 2,
   "id": "82d4d8f8",
   "metadata": {},
   "outputs": [],
   "source": [
    "# configuration\n",
    "DATA_PATH = r\"data\"\n",
    "CHROMA_PATH = r\"chroma_db\""
   ]
  },
  {
   "cell_type": "code",
   "execution_count": 3,
   "id": "157622fb",
   "metadata": {},
   "outputs": [],
   "source": [
    "from langchain_ollama import OllamaEmbeddings\n",
    "\n",
    "\n",
    "embeddings = OllamaEmbeddings(\n",
    "    model=\"nomic-embed-text\",\n",
    ")"
   ]
  },
  {
   "cell_type": "code",
   "execution_count": 4,
   "id": "16c53025",
   "metadata": {},
   "outputs": [],
   "source": [
    "vector_store = Chroma(\n",
    "    collection_name=\"chatbot\",\n",
    "    embedding_function=embeddings,\n",
    "    persist_directory=CHROMA_PATH,\n",
    ")"
   ]
  },
  {
   "cell_type": "code",
   "execution_count": 5,
   "id": "2193ffad",
   "metadata": {},
   "outputs": [],
   "source": [
    "loader = PyPDFDirectoryLoader(DATA_PATH)"
   ]
  },
  {
   "cell_type": "code",
   "execution_count": 6,
   "id": "a92b0d57",
   "metadata": {},
   "outputs": [],
   "source": [
    "raw_documents = loader.load()"
   ]
  },
  {
   "cell_type": "code",
   "execution_count": 7,
   "id": "9834da19",
   "metadata": {},
   "outputs": [],
   "source": [
    "# splitting the document\n",
    "text_splitter = RecursiveCharacterTextSplitter(\n",
    "    chunk_size=1000,\n",
    "    chunk_overlap=200,\n",
    "    length_function=len,\n",
    "    is_separator_regex=False,\n",
    ")\n",
    "\n",
    "# creating the chunks\n",
    "chunks = text_splitter.split_documents(raw_documents)"
   ]
  },
  {
   "cell_type": "code",
   "execution_count": 8,
   "id": "94804cc3",
   "metadata": {},
   "outputs": [
    {
     "data": {
      "text/plain": [
       "['afa90030-ac71-4188-8342-d4b3fef0fe0f',\n",
       " 'e01e48df-0a01-450e-a34d-e3d858f0cdcb',\n",
       " 'ccb79a89-fe87-4ba4-be62-1c1edd947222',\n",
       " '2f17b1fe-e218-4835-b322-4d8a09a433bd',\n",
       " '8f943801-22d6-473e-8db1-d43834d72b2c',\n",
       " 'b586314f-3eb8-4d51-9761-90f95feefda3',\n",
       " 'beb840d9-db05-4994-bb3a-9bf49e00f85f',\n",
       " '9c1505fa-95a0-4e61-8fba-8b14b48bd0c5',\n",
       " '43232b79-8e5a-4de2-a48b-b2acf9fb9181',\n",
       " '3dbd6821-da92-4bd1-bba4-594e1adaef7d',\n",
       " 'a7e8ed74-59fd-46e1-a011-33b108fa40ce',\n",
       " '1b8e87e2-e4e0-4f25-bdf6-04b86c7add00',\n",
       " '42d6afb7-306f-4ed8-8580-4ef5a85c6470',\n",
       " '488b371e-a00c-4ac4-9134-96e0dba19901',\n",
       " '79b7870a-0bee-45cf-b664-d17b40f70ed4',\n",
       " 'c09f0c0a-4a41-43f5-bdf3-e2f6ff9ff5dd',\n",
       " 'a7237264-7a2b-4c4e-8aaf-fd73f4122062',\n",
       " '6dfc2049-527a-4e33-b473-26b0530656a9',\n",
       " '84868163-96bf-4786-a10d-c4d97d08dcd4',\n",
       " '5ad227e8-678f-4b03-b19c-5bcf922bc692',\n",
       " 'c146a34e-12a2-40a9-a32a-769222a059c5',\n",
       " 'e6c16157-a8ce-4852-86ce-f9283a1491e2',\n",
       " 'fe47623c-841e-4ee9-9614-42c4d6246141',\n",
       " 'bdd2cccf-8de4-4131-9e45-3863c5d00cd7',\n",
       " '4814d8fe-0774-4309-8708-f26c65793385',\n",
       " '8690be43-862b-441b-84be-7d984053499d',\n",
       " '11844da7-1bc1-4ba0-8cb1-b11332112e26',\n",
       " '7833a85e-3731-45b6-843b-8fdab812e8dc',\n",
       " '8d47c9d9-0c46-402c-9e5b-9d45d7580f00',\n",
       " '8232473d-347f-425a-b4f8-69ba946a0b4c',\n",
       " '948e18d6-7286-4fad-b77c-0e41ea016086',\n",
       " 'ed90fcfa-ec4f-4f09-a82e-b1f1fbfec316',\n",
       " 'eeb34eae-04d5-45a1-9f01-067ad35c68ec',\n",
       " '35cb355f-472e-406d-ab33-0dabcf65fe9d',\n",
       " '611cd675-7178-4a4e-bb39-a443d272ab04',\n",
       " '7b90163e-598f-4551-aad2-d7a8dcde77d6',\n",
       " 'd5451295-6182-4ef8-9c9d-563f75052a20',\n",
       " '4c43f4fa-739d-4b9d-bf59-cb811b355f71',\n",
       " '44e6d3e5-c6f9-4739-966a-02f4d5f9dfaa',\n",
       " '0949a590-0b73-4a09-9695-0eb295f8c2f5',\n",
       " '7d7e3a28-85c9-4999-992b-4abde2bbbfc2',\n",
       " 'a2b6e0bb-9558-4e4e-bab1-269950befd6b',\n",
       " '80ce09b5-ad62-4f53-a49b-f32edd4ba23d',\n",
       " 'ff40c0f6-e239-4b45-8fcf-6c0596725f71',\n",
       " 'af5d9e33-7bdb-455c-a513-b3460a4d6cc9',\n",
       " '9c8eaa82-b90d-46bf-ae38-8c78e3800d98',\n",
       " 'a3f9d45a-97f5-401a-a901-d5e3c19a36e7',\n",
       " '09dcec9f-d2a7-4d0f-9135-54f93f2efdf9',\n",
       " '70524f4b-b6c5-414a-bad2-626dd98ebb34',\n",
       " 'cc0d8bba-81ab-4ce1-b2b2-803c1d4659e4',\n",
       " 'b2d610f1-4bd6-4b10-af58-afd70074a554',\n",
       " 'c8feec91-34ba-4ed6-b75f-de4970c8c6bd',\n",
       " 'baa6a015-c24c-4d20-bece-44d605e30bcc',\n",
       " 'f9cf9215-d9e0-4e82-bca2-d845bfc24147',\n",
       " 'f7e5e579-07e4-4d0b-8a3c-d574f0b2268a',\n",
       " 'ed21b062-45f9-43fa-9ec5-6615b9a29c09',\n",
       " 'b927d0d2-2363-4aa8-9ccb-27643c8f8594',\n",
       " 'c16e287d-cd71-493d-8529-dad187136bd9',\n",
       " 'c3d58d72-de72-4585-bb16-51cdf8451f56',\n",
       " 'ed9b87b1-774a-421b-8a67-b0f1977c0bb1',\n",
       " '3aab79b3-e835-4e35-a96a-f345d5efca2b',\n",
       " 'c3bb5653-16a7-488d-9a6a-509cfbd7f876',\n",
       " 'f216ac0d-1e43-404b-96fe-6a9179b39638',\n",
       " '8b7adac4-58c0-49e2-a713-b25c228bf524',\n",
       " 'd29c4dbc-de8b-45d1-8f5e-661ab51b11cb',\n",
       " 'a3e53d79-f36b-401c-a0e4-270d00334717',\n",
       " 'a5684140-cfcd-4aaf-9b95-4abfc7485bb1',\n",
       " 'b0189637-399f-480c-8e93-21c2b0bcff33',\n",
       " '2cae02f8-52b9-438c-a297-ca8524b3820a',\n",
       " '0d3b6163-23a9-436c-813b-4cb5c2f73a3c',\n",
       " '0e691057-a5f3-481c-a556-9c984fd7af6e',\n",
       " '023cd485-0d6e-403c-9eb7-2177c68cf343',\n",
       " '63d9625d-4b62-4816-b386-f20980f0c945',\n",
       " 'a3348ec2-5218-4aac-b973-ef52d89a5ff7',\n",
       " '1552d1d6-2825-4d98-b787-62de048f0c87',\n",
       " 'd27490a1-a1da-4c0c-bda4-00e4fe32b529',\n",
       " '69cc4ee9-db1e-4cd3-b4f9-9af3625755fb',\n",
       " 'f8968648-6f41-4c40-b8ef-c4d03f2a8fcb',\n",
       " 'efae326a-0a71-41fc-a74a-ea99db18de1b',\n",
       " '261d133a-5191-422b-a808-d66997977684',\n",
       " 'eb60bba2-9d77-43ed-9f94-5429e87f3697',\n",
       " 'ddc06ab0-21f3-426e-b815-a93fe08d2155',\n",
       " '295b3f43-34a1-484f-965c-6aab738000cb',\n",
       " '3cac15e8-747e-45c0-b9f1-16aa5703983a',\n",
       " '79170d00-1ae5-4715-9108-f484acc21903',\n",
       " '351b2f01-8a8d-4ec4-b24d-70a27c9f6058',\n",
       " '1def77e8-8411-4861-ae9d-2b4ab3e66247',\n",
       " '4196646e-92fd-450f-8b46-bd472dbf19fb',\n",
       " '550a2fae-5f7c-413a-be5b-1ffb673fe1e3',\n",
       " 'fbe530d3-2d50-41ae-b57f-fbff20e475d8',\n",
       " '4c78ec1a-2228-4e35-bfc5-8d87297db2c8',\n",
       " '3a8fd7e4-8ecb-409b-b11d-8f574a8b4f02',\n",
       " 'e2ed89ca-7324-4407-8a82-f9f02f877117',\n",
       " '1bb55a6a-016b-47ed-8ba2-9fdec55fd863',\n",
       " '926631d8-2be2-45a8-a7c5-4500e9ca8ff9',\n",
       " '5b6700dd-8be2-4367-ad9c-669e7782a9b7',\n",
       " '38fcad81-9e02-42b3-87a6-1c37318977d1',\n",
       " 'cc029e04-3174-4b86-ae5a-ff18a0731b0b',\n",
       " 'ea255242-93c8-45f0-9253-98416f8acf24',\n",
       " 'bb47158d-6917-4733-ab42-e7e23e411621',\n",
       " '0f4ee3cd-25dd-420b-bec3-c52ebf7578fa',\n",
       " 'ad4fa9cb-4ffb-4eb4-8f12-af19c72bc929',\n",
       " '12bd2570-dd6c-466e-ad80-5b029a13e9d0',\n",
       " '65d460f0-aad5-4bf7-9227-1b7a149dbba7',\n",
       " '880a750b-2f8b-498f-b478-d9f8fcd45303',\n",
       " '2ecd1f8d-cf81-41bb-b4d9-254accb5fa5b',\n",
       " 'a8a36455-2d0c-476d-b1de-98d72dc2ba35',\n",
       " '64c53a71-9376-498b-aa4d-b1cb6483b59b',\n",
       " '119f01c8-85ce-47cb-b33d-e01fad30a8e2',\n",
       " 'ec36bc0c-52bd-47df-a71d-d167152648ad',\n",
       " '94793bb1-70d7-4ed5-9e8f-8ae30fd2f97d',\n",
       " '3860d4b9-90ce-44fd-ba34-34b84ec36c77',\n",
       " 'de2f8f31-81d7-403d-a035-77662542f516',\n",
       " '693a7181-7e4a-4f35-a505-9f988d0f7674',\n",
       " 'fe12a0a4-84e5-455d-bc52-c9ac5ac85b71',\n",
       " '5264babf-2707-4053-8767-0e157a6a4d06',\n",
       " '5f1cb4d1-3085-4f13-b7bd-12ee5b063c06',\n",
       " 'a06b9315-c08a-4c44-9f04-5c5c4cc10bae',\n",
       " 'da9ed3a6-0a97-41cb-9c70-ecea41847573',\n",
       " 'fca82f3d-fe65-4e26-949f-79931f26a292',\n",
       " '44f65289-c8f0-49c7-afca-39ae36496710',\n",
       " 'c301e02b-4f56-4edb-8b69-21b8169c822e',\n",
       " 'b213609f-894b-4564-b7ac-6362e7e8de65',\n",
       " 'a87875df-8c5b-4be0-9ec3-140315e55fea',\n",
       " 'c1a9fb78-f610-4206-bacf-5620b23510fe',\n",
       " 'f4d26e7a-3981-4d87-b887-8b7d4a1f3649',\n",
       " 'e5bff613-7700-491d-8d33-9aee31c3517d',\n",
       " 'de5af05f-890d-4eac-a7ac-c8a11ccd8b42',\n",
       " '70cdca0a-3dbb-435e-8d87-1a0264661305',\n",
       " '8c8f7802-7de7-4278-9ca3-5409e54a3707',\n",
       " '7d17325f-32a2-4dae-b903-458ef1fe9068',\n",
       " '871ede2c-9d57-4c51-88c8-5fef8d68a8b0',\n",
       " 'fc81adce-7136-443f-8f4d-14a0683cf143',\n",
       " '25b1b0fc-59cc-45f8-8566-a4909161bf8a',\n",
       " '2ec7fe4d-faa4-4b25-ac2e-95e37a6421b3',\n",
       " 'f7ca80be-d177-48c7-ae05-d0bb7738dab8',\n",
       " 'bba75679-694b-4265-a7ce-c9aadefae4f3',\n",
       " '8242129e-a36b-453d-b79e-deb8c90b2f40',\n",
       " '0b8c9974-985d-45e2-9fee-99caa58f0e1a',\n",
       " '3fb1e595-be01-46a7-8e26-ff740217fcf6',\n",
       " '84946c0b-b39d-4d4c-955c-f9d2e99dd50f',\n",
       " '47b5d820-c5e1-4cea-b337-1e67fe8e529a',\n",
       " 'd1dad3a0-1f46-435f-8263-bf2550ffe8b1',\n",
       " '0cef84cd-0cbc-490e-9e1e-2f6ecb789f64',\n",
       " '4e2754fb-0afe-44b2-b077-a258b8a43fbb',\n",
       " '8c5b316e-0f98-4a78-a009-a5b1ad31f3e2',\n",
       " '6e3fc68b-d398-49e9-b3e7-89298f1be3d2',\n",
       " 'd8fb0e19-a968-450a-b790-181101bab12c',\n",
       " 'c26e6a36-aed1-4402-9e94-4d6eb9631ad6',\n",
       " '9ba2aa0f-d116-4276-b497-ec22057878b0',\n",
       " 'd42fac41-7549-4b05-9d72-277a2b2df88f',\n",
       " '72f202a7-599d-48a1-bbd3-e9ae1d954623',\n",
       " 'febaa5fc-2d34-4405-90f7-d8396ad7eff9',\n",
       " 'dc43ab5b-c701-4c56-b870-0ad08d1f82f2',\n",
       " '3b82586b-b4ce-48f5-89d1-4fda3ebfac98',\n",
       " 'f020280e-5e6d-43bc-bda2-26545af04e14',\n",
       " '7532eb62-093d-41cb-bffe-64f0669f92e6',\n",
       " '0b27f052-213d-4ef4-ade5-c35a70f752bb',\n",
       " '037f8339-8d1c-40d0-9e2c-d5f33e3e2c7d',\n",
       " 'c1f85c72-6919-45af-b74a-04ccb3d06555',\n",
       " 'a43545f1-1a0f-4084-9bbc-5b45941446c8',\n",
       " 'd499accb-0eb4-42e4-b407-f9a3b4c52e73',\n",
       " '5310a39b-571f-4f40-9227-82e40d369fe2',\n",
       " '5e35637e-e457-410c-86cd-e64396d62d84',\n",
       " '5f22833c-e2c1-46a2-9c69-333fb0da4569',\n",
       " '1acdfe47-e566-4688-83b7-d6aafdddec87',\n",
       " '0867cf4d-8ed2-451e-aa35-34baeca7eee3',\n",
       " '69f0e6e2-06a7-420c-a697-c68d5a999d2a',\n",
       " '8889663d-6cdb-4a50-b24a-9c8872d0b83f',\n",
       " '5c0d706e-c25b-483b-a9d5-5981be1f0ede',\n",
       " 'bafa2289-0b5e-4ac7-92fb-2a56c2b072c0',\n",
       " '852483e5-a881-43c2-9740-7fc3d1294cff',\n",
       " '9694d6d3-b0f0-4377-88f7-07107b2d3636',\n",
       " '6b13de92-f265-44a8-8d48-8497c0ca43d1',\n",
       " '552472d0-a2f0-4e14-a602-4e9747535945',\n",
       " 'eb0a41ca-db6f-42e5-b693-06620728269a',\n",
       " 'e39e9789-b3bf-4c28-9bb2-0e603ffd01ee',\n",
       " 'e1ff2a5f-ff4b-4381-b482-910fe69c642b',\n",
       " 'b2eb01ad-3765-4b0b-9989-36eb5001d78f',\n",
       " '6e142315-e1d3-461c-ad62-949e82ef13f2',\n",
       " '7a6db37b-917e-4b8d-927f-1c9ca34675c2']"
      ]
     },
     "execution_count": 8,
     "metadata": {},
     "output_type": "execute_result"
    }
   ],
   "source": [
    "uuids = [str(uuid4()) for _ in range(len(chunks))]\n",
    "\n",
    "# adding chunks to vector store\n",
    "vector_store.add_documents(documents=chunks, ids=uuids)"
   ]
  },
  {
   "cell_type": "code",
   "execution_count": 9,
   "id": "5281e3e1",
   "metadata": {},
   "outputs": [
    {
     "name": "stderr",
     "output_type": "stream",
     "text": [
      "/home/ezzoubair/Desktop/TTX/venv/lib/python3.10/site-packages/tqdm/auto.py:21: TqdmWarning: IProgress not found. Please update jupyter and ipywidgets. See https://ipywidgets.readthedocs.io/en/stable/user_install.html\n",
      "  from .autonotebook import tqdm as notebook_tqdm\n"
     ]
    },
    {
     "data": {
      "text/plain": [
       "True"
      ]
     },
     "execution_count": 9,
     "metadata": {},
     "output_type": "execute_result"
    }
   ],
   "source": [
    "from langchain_openai import ChatOpenAI, OpenAIEmbeddings\n",
    "from langchain_chroma import Chroma\n",
    "import gradio as gr\n",
    "\n",
    "# import the .env file\n",
    "from dotenv import load_dotenv\n",
    "load_dotenv()\n"
   ]
  },
  {
   "cell_type": "code",
   "execution_count": null,
   "id": "e0370f0e",
   "metadata": {},
   "outputs": [],
   "source": [
    "from dotenv import load_dotenv\n",
    "from langchain_groq import ChatGroq\n",
    "from langchain.schema import HumanMessage\n",
    "# from langchain_ollama import OllamaEmbeddings\n",
    "from langchain.memory import ConversationBufferMemory\n",
    "# from langchain_community.document_loaders import TextLoader,PyPDFLoader\n",
    "# from langchain.text_splitter import RecursiveCharacterTextSplitter\n",
    "# from langchain.chains import LLMChain\n",
    "# from langchain_openai import ChatOpenAI\n",
    "from langchain.memory import ConversationBufferMemory\n",
    "from langchain.retrievers import ContextualCompressionRetriever\n",
    "from langchain.retrievers.document_compressors import LLMChainExtractor\n",
    "# from langchain_core.vectorstores import InMemoryVectorStore\n",
    "from langchain_groq import ChatGroq\n",
    "from langchain.prompts import ChatPromptTemplate\n",
    "load_dotenv()\n",
    "\n",
    "GROQ_API_KEY = \"\"\n",
    "llm_compression = ChatGroq(temperature=0,api_key=GROQ_API_KEY,model=\"llama-3.3-70b-versatile\")\n",
    "compressor_llm = LLMChainExtractor.from_llm(llm_compression)"
   ]
  },
  {
   "cell_type": "code",
   "execution_count": 11,
   "id": "320ad129",
   "metadata": {},
   "outputs": [],
   "source": [
    "# Set up the vectorstore to be the retriever\n",
    "\n",
    "\n",
    "num_results = 5\n",
    "retriever = vector_store.as_retriever(search_kwargs={'k': num_results})\n",
    "\n"
   ]
  },
  {
   "cell_type": "code",
   "execution_count": null,
   "id": "a65c7715",
   "metadata": {},
   "outputs": [
    {
     "name": "stderr",
     "output_type": "stream",
     "text": [
      "/tmp/ipykernel_78071/1892361952.py:39: LangChainDeprecationWarning: Please see the migration guide at: https://python.langchain.com/docs/versions/migrating_memory/\n",
      "  memory = ConversationBufferMemory(memory_key=\"history\", return_messages=False)\n"
     ]
    }
   ],
   "source": [
    "advanced_retriever = ContextualCompressionRetriever(\n",
    "    base_compressor=compressor_llm,\n",
    "    base_retriever=retriever\n",
    ")\n",
    "\n",
    "def retrieve_context(query):\n",
    "    \"\"\"Récupère le contexte pertinent pour la question\"\"\"\n",
    "    docs = advanced_retriever.get_relevant_documents(query)\n",
    "    return \"\\n\\n\".join([f\"- {doc.page_content}\" for doc in docs])\n",
    "\n",
    "# --- Configuration du prompt RAG ---\n",
    "rag_template = \"\"\"\n",
    "Rôle : tu es un expert dans le domaine de la formation et de la formation assistée par l'IA.\n",
    "Mission : aider l'utilisateur à comprendre et utiliser efficacement une plateforme qui utilise l’IA pour la formation et fournir des réponses sur le domaine de la formation assistée par IA en général.\n",
    "\n",
    "Historique :\n",
    "{history}\n",
    "\n",
    "Connaissances :\n",
    "{context}\n",
    "\n",
    "Question :\n",
    "{question}\n",
    "\n",
    "Consignes :\n",
    "\n",
    "    Répondez uniquement avec les informations disponibles\n",
    "\n",
    "    En cas de hors-sujet : \"Je n'ai pas cette information. Voulez-vous une question sur les tendances énergétiques marocaines ?\"\n",
    "\n",
    "    Ton professionnel et clair\n",
    "\n",
    "Format :\n",
    "Structure claire avec informations factuelles\"\"\"\n",
    "\n",
    "rag_prompt = ChatPromptTemplate.from_template(rag_template)\n",
    "\n",
    "\n",
    "llm_response = ChatGroq(temperature=0,model=\"llama-3.3-70b-versatile\",api_key=GROQ_API_KEY)\n",
    "\n",
    "\n",
    "memory = ConversationBufferMemory(memory_key=\"history\", return_messages=False)\n",
    "\n",
    "def generate_response(user_message):\n",
    "    \"\"\"Génère la réponse de l'assistant\"\"\"\n",
    "\n",
    "    conversation_history = memory.buffer\n",
    "\n",
    "\n",
    "    context = retrieve_context(user_message)\n",
    "\n",
    "\n",
    "    prompt = rag_prompt.format(\n",
    "        history=conversation_history,\n",
    "        context=context,\n",
    "        question=user_message\n",
    "    )\n",
    "\n",
    "\n",
    "    response = llm_response([HumanMessage(content=prompt)]).content\n",
    "\n",
    "\n",
    "    memory.save_context({\"input\": user_message}, {\"output\": response})\n",
    "\n",
    "    return response"
   ]
  },
  {
   "cell_type": "code",
   "execution_count": 13,
   "id": "2a7cf801",
   "metadata": {},
   "outputs": [],
   "source": [
    "import gradio as gr"
   ]
  },
  {
   "cell_type": "code",
   "execution_count": 17,
   "id": "474610b6",
   "metadata": {},
   "outputs": [
    {
     "name": "stderr",
     "output_type": "stream",
     "text": [
      "/tmp/ipykernel_78071/1037708201.py:3: UserWarning: You have not specified a value for the `type` parameter. Defaulting to the 'tuples' format for chatbot messages, but this is deprecated and will be removed in a future version of Gradio. Please set type='messages' instead, which uses openai-style dictionaries with 'role' and 'content' keys.\n",
      "  chatbot = gr.Chatbot()\n"
     ]
    },
    {
     "name": "stdout",
     "output_type": "stream",
     "text": [
      "* Running on local URL:  http://127.0.0.1:7863\n",
      "\n",
      "To create a public link, set `share=True` in `launch()`.\n"
     ]
    },
    {
     "data": {
      "text/html": [
       "<div><iframe src=\"http://127.0.0.1:7863/\" width=\"100%\" height=\"500\" allow=\"autoplay; camera; microphone; clipboard-read; clipboard-write;\" frameborder=\"0\" allowfullscreen></iframe></div>"
      ],
      "text/plain": [
       "<IPython.core.display.HTML object>"
      ]
     },
     "metadata": {},
     "output_type": "display_data"
    },
    {
     "data": {
      "text/plain": []
     },
     "execution_count": 17,
     "metadata": {},
     "output_type": "execute_result"
    }
   ],
   "source": [
    "with gr.Blocks() as demo:\n",
    "    gr.Markdown(\"## Djnago \")\n",
    "    chatbot = gr.Chatbot()\n",
    "    state = gr.State([])\n",
    "\n",
    "    with gr.Row():\n",
    "        txt_input = gr.Textbox(\n",
    "            show_label=False,\n",
    "            placeholder=\"Posez votre question ici...\",\n",
    "            container=False\n",
    "        )\n",
    "        send_btn = gr.Button(\"Envoyer\")\n",
    "\n",
    "    def user_interaction(user_message, history):\n",
    "        response = generate_response(user_message)\n",
    "        history.append((user_message, response))\n",
    "        return \"\", history\n",
    "\n",
    "    txt_input.submit(user_interaction, [txt_input, state], [txt_input, chatbot])\n",
    "    send_btn.click(user_interaction, [txt_input, state], [txt_input, chatbot])\n",
    "\n",
    "demo.launch()"
   ]
  },
  {
   "cell_type": "code",
   "execution_count": null,
   "id": "aa3c3872",
   "metadata": {},
   "outputs": [],
   "source": []
  }
 ],
 "metadata": {
  "kernelspec": {
   "display_name": "venv",
   "language": "python",
   "name": "python3"
  },
  "language_info": {
   "codemirror_mode": {
    "name": "ipython",
    "version": 3
   },
   "file_extension": ".py",
   "mimetype": "text/x-python",
   "name": "python",
   "nbconvert_exporter": "python",
   "pygments_lexer": "ipython3",
   "version": "3.10.12"
  }
 },
 "nbformat": 4,
 "nbformat_minor": 5
}
